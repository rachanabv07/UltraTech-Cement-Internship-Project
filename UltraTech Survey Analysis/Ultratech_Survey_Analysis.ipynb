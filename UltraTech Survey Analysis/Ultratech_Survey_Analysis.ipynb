{
 "cells": [
  {
   "cell_type": "markdown",
   "id": "ed719994",
   "metadata": {},
   "source": [
    "# Study on Rainwater Harvesting in Bangalore Market\n",
    "\n",
    "In order to understand the ground situation and also to get feedback from the public regarding RWH, a \n",
    "survey was conducted focusing on Bangalore city through calls and Google forms and noted in an \n",
    "csv file.\n",
    "\n",
    "# Dataset\n",
    "\n",
    "Survey.csv = "
   ]
  },
  {
   "cell_type": "markdown",
   "id": "50c1c24d",
   "metadata": {},
   "source": [
    "## 1.1 Importing the File and Data Cleaning"
   ]
  },
  {
   "cell_type": "code",
   "execution_count": 3,
   "id": "e542ca3b",
   "metadata": {},
   "outputs": [],
   "source": [
    "import pandas as pd\n",
    "import matplotlib.pyplot as plt\n",
    "import numpy as np\n"
   ]
  },
  {
   "cell_type": "code",
   "execution_count": 96,
   "id": "a156e13b",
   "metadata": {},
   "outputs": [
    {
     "ename": "ParserError",
     "evalue": "Error tokenizing data. C error: Expected 1 fields in line 28, saw 367\n",
     "output_type": "error",
     "traceback": [
      "\u001b[1;31m---------------------------------------------------------------------------\u001b[0m",
      "\u001b[1;31mParserError\u001b[0m                               Traceback (most recent call last)",
      "\u001b[1;32m~\\AppData\\Local\\Temp\\ipykernel_2712\\791249868.py\u001b[0m in \u001b[0;36m<module>\u001b[1;34m\u001b[0m\n\u001b[1;32m----> 1\u001b[1;33m \u001b[0mRWH\u001b[0m\u001b[1;33m=\u001b[0m\u001b[0mpd\u001b[0m\u001b[1;33m.\u001b[0m\u001b[0mread_csv\u001b[0m\u001b[1;33m(\u001b[0m\u001b[1;34m\"https://github.com/rachanabv07/UltraTech-Cement-Internship-Project/blob/main/Survey.csv\"\u001b[0m\u001b[1;33m)\u001b[0m\u001b[1;33m\u001b[0m\u001b[1;33m\u001b[0m\u001b[0m\n\u001b[0m\u001b[0;32m      2\u001b[0m \u001b[0mRWH\u001b[0m\u001b[1;33m.\u001b[0m\u001b[0mloc\u001b[0m\u001b[1;33m[\u001b[0m\u001b[1;33m:\u001b[0m\u001b[1;33m,\u001b[0m\u001b[1;34m\"User type\"\u001b[0m\u001b[1;33m]\u001b[0m\u001b[1;33m=\u001b[0m\u001b[0mRWH\u001b[0m\u001b[1;33m.\u001b[0m\u001b[0mloc\u001b[0m\u001b[1;33m[\u001b[0m\u001b[1;33m:\u001b[0m\u001b[1;33m,\u001b[0m\u001b[1;34m\"User type\"\u001b[0m\u001b[1;33m]\u001b[0m\u001b[1;33m.\u001b[0m\u001b[0mffill\u001b[0m\u001b[1;33m(\u001b[0m\u001b[1;33m)\u001b[0m\u001b[1;33m\u001b[0m\u001b[1;33m\u001b[0m\u001b[0m\n\u001b[0;32m      3\u001b[0m \u001b[0mRWH\u001b[0m\u001b[1;33m=\u001b[0m\u001b[0mRWH\u001b[0m\u001b[1;33m.\u001b[0m\u001b[0mdropna\u001b[0m\u001b[1;33m(\u001b[0m\u001b[0mthresh\u001b[0m\u001b[1;33m=\u001b[0m\u001b[1;36m5\u001b[0m\u001b[1;33m)\u001b[0m\u001b[1;33m\u001b[0m\u001b[1;33m\u001b[0m\u001b[0m\n\u001b[0;32m      4\u001b[0m \u001b[0mRWH\u001b[0m\u001b[1;33m=\u001b[0m\u001b[0mRWH\u001b[0m\u001b[1;33m.\u001b[0m\u001b[0mdrop\u001b[0m\u001b[1;33m(\u001b[0m\u001b[1;36m32\u001b[0m\u001b[1;33m)\u001b[0m\u001b[1;33m\u001b[0m\u001b[1;33m\u001b[0m\u001b[0m\n\u001b[0;32m      5\u001b[0m \u001b[0mRWH\u001b[0m\u001b[1;33m\u001b[0m\u001b[1;33m\u001b[0m\u001b[0m\n",
      "\u001b[1;32m~\\anaconda3\\lib\\site-packages\\pandas\\util\\_decorators.py\u001b[0m in \u001b[0;36mwrapper\u001b[1;34m(*args, **kwargs)\u001b[0m\n\u001b[0;32m    309\u001b[0m                     \u001b[0mstacklevel\u001b[0m\u001b[1;33m=\u001b[0m\u001b[0mstacklevel\u001b[0m\u001b[1;33m,\u001b[0m\u001b[1;33m\u001b[0m\u001b[1;33m\u001b[0m\u001b[0m\n\u001b[0;32m    310\u001b[0m                 )\n\u001b[1;32m--> 311\u001b[1;33m             \u001b[1;32mreturn\u001b[0m \u001b[0mfunc\u001b[0m\u001b[1;33m(\u001b[0m\u001b[1;33m*\u001b[0m\u001b[0margs\u001b[0m\u001b[1;33m,\u001b[0m \u001b[1;33m**\u001b[0m\u001b[0mkwargs\u001b[0m\u001b[1;33m)\u001b[0m\u001b[1;33m\u001b[0m\u001b[1;33m\u001b[0m\u001b[0m\n\u001b[0m\u001b[0;32m    312\u001b[0m \u001b[1;33m\u001b[0m\u001b[0m\n\u001b[0;32m    313\u001b[0m         \u001b[1;32mreturn\u001b[0m \u001b[0mwrapper\u001b[0m\u001b[1;33m\u001b[0m\u001b[1;33m\u001b[0m\u001b[0m\n",
      "\u001b[1;32m~\\anaconda3\\lib\\site-packages\\pandas\\io\\parsers\\readers.py\u001b[0m in \u001b[0;36mread_csv\u001b[1;34m(filepath_or_buffer, sep, delimiter, header, names, index_col, usecols, squeeze, prefix, mangle_dupe_cols, dtype, engine, converters, true_values, false_values, skipinitialspace, skiprows, skipfooter, nrows, na_values, keep_default_na, na_filter, verbose, skip_blank_lines, parse_dates, infer_datetime_format, keep_date_col, date_parser, dayfirst, cache_dates, iterator, chunksize, compression, thousands, decimal, lineterminator, quotechar, quoting, doublequote, escapechar, comment, encoding, encoding_errors, dialect, error_bad_lines, warn_bad_lines, on_bad_lines, delim_whitespace, low_memory, memory_map, float_precision, storage_options)\u001b[0m\n\u001b[0;32m    676\u001b[0m     \u001b[0mkwds\u001b[0m\u001b[1;33m.\u001b[0m\u001b[0mupdate\u001b[0m\u001b[1;33m(\u001b[0m\u001b[0mkwds_defaults\u001b[0m\u001b[1;33m)\u001b[0m\u001b[1;33m\u001b[0m\u001b[1;33m\u001b[0m\u001b[0m\n\u001b[0;32m    677\u001b[0m \u001b[1;33m\u001b[0m\u001b[0m\n\u001b[1;32m--> 678\u001b[1;33m     \u001b[1;32mreturn\u001b[0m \u001b[0m_read\u001b[0m\u001b[1;33m(\u001b[0m\u001b[0mfilepath_or_buffer\u001b[0m\u001b[1;33m,\u001b[0m \u001b[0mkwds\u001b[0m\u001b[1;33m)\u001b[0m\u001b[1;33m\u001b[0m\u001b[1;33m\u001b[0m\u001b[0m\n\u001b[0m\u001b[0;32m    679\u001b[0m \u001b[1;33m\u001b[0m\u001b[0m\n\u001b[0;32m    680\u001b[0m \u001b[1;33m\u001b[0m\u001b[0m\n",
      "\u001b[1;32m~\\anaconda3\\lib\\site-packages\\pandas\\io\\parsers\\readers.py\u001b[0m in \u001b[0;36m_read\u001b[1;34m(filepath_or_buffer, kwds)\u001b[0m\n\u001b[0;32m    579\u001b[0m \u001b[1;33m\u001b[0m\u001b[0m\n\u001b[0;32m    580\u001b[0m     \u001b[1;32mwith\u001b[0m \u001b[0mparser\u001b[0m\u001b[1;33m:\u001b[0m\u001b[1;33m\u001b[0m\u001b[1;33m\u001b[0m\u001b[0m\n\u001b[1;32m--> 581\u001b[1;33m         \u001b[1;32mreturn\u001b[0m \u001b[0mparser\u001b[0m\u001b[1;33m.\u001b[0m\u001b[0mread\u001b[0m\u001b[1;33m(\u001b[0m\u001b[0mnrows\u001b[0m\u001b[1;33m)\u001b[0m\u001b[1;33m\u001b[0m\u001b[1;33m\u001b[0m\u001b[0m\n\u001b[0m\u001b[0;32m    582\u001b[0m \u001b[1;33m\u001b[0m\u001b[0m\n\u001b[0;32m    583\u001b[0m \u001b[1;33m\u001b[0m\u001b[0m\n",
      "\u001b[1;32m~\\anaconda3\\lib\\site-packages\\pandas\\io\\parsers\\readers.py\u001b[0m in \u001b[0;36mread\u001b[1;34m(self, nrows)\u001b[0m\n\u001b[0;32m   1251\u001b[0m             \u001b[0mnrows\u001b[0m \u001b[1;33m=\u001b[0m \u001b[0mvalidate_integer\u001b[0m\u001b[1;33m(\u001b[0m\u001b[1;34m\"nrows\"\u001b[0m\u001b[1;33m,\u001b[0m \u001b[0mnrows\u001b[0m\u001b[1;33m)\u001b[0m\u001b[1;33m\u001b[0m\u001b[1;33m\u001b[0m\u001b[0m\n\u001b[0;32m   1252\u001b[0m             \u001b[1;32mtry\u001b[0m\u001b[1;33m:\u001b[0m\u001b[1;33m\u001b[0m\u001b[1;33m\u001b[0m\u001b[0m\n\u001b[1;32m-> 1253\u001b[1;33m                 \u001b[0mindex\u001b[0m\u001b[1;33m,\u001b[0m \u001b[0mcolumns\u001b[0m\u001b[1;33m,\u001b[0m \u001b[0mcol_dict\u001b[0m \u001b[1;33m=\u001b[0m \u001b[0mself\u001b[0m\u001b[1;33m.\u001b[0m\u001b[0m_engine\u001b[0m\u001b[1;33m.\u001b[0m\u001b[0mread\u001b[0m\u001b[1;33m(\u001b[0m\u001b[0mnrows\u001b[0m\u001b[1;33m)\u001b[0m\u001b[1;33m\u001b[0m\u001b[1;33m\u001b[0m\u001b[0m\n\u001b[0m\u001b[0;32m   1254\u001b[0m             \u001b[1;32mexcept\u001b[0m \u001b[0mException\u001b[0m\u001b[1;33m:\u001b[0m\u001b[1;33m\u001b[0m\u001b[1;33m\u001b[0m\u001b[0m\n\u001b[0;32m   1255\u001b[0m                 \u001b[0mself\u001b[0m\u001b[1;33m.\u001b[0m\u001b[0mclose\u001b[0m\u001b[1;33m(\u001b[0m\u001b[1;33m)\u001b[0m\u001b[1;33m\u001b[0m\u001b[1;33m\u001b[0m\u001b[0m\n",
      "\u001b[1;32m~\\anaconda3\\lib\\site-packages\\pandas\\io\\parsers\\c_parser_wrapper.py\u001b[0m in \u001b[0;36mread\u001b[1;34m(self, nrows)\u001b[0m\n\u001b[0;32m    223\u001b[0m         \u001b[1;32mtry\u001b[0m\u001b[1;33m:\u001b[0m\u001b[1;33m\u001b[0m\u001b[1;33m\u001b[0m\u001b[0m\n\u001b[0;32m    224\u001b[0m             \u001b[1;32mif\u001b[0m \u001b[0mself\u001b[0m\u001b[1;33m.\u001b[0m\u001b[0mlow_memory\u001b[0m\u001b[1;33m:\u001b[0m\u001b[1;33m\u001b[0m\u001b[1;33m\u001b[0m\u001b[0m\n\u001b[1;32m--> 225\u001b[1;33m                 \u001b[0mchunks\u001b[0m \u001b[1;33m=\u001b[0m \u001b[0mself\u001b[0m\u001b[1;33m.\u001b[0m\u001b[0m_reader\u001b[0m\u001b[1;33m.\u001b[0m\u001b[0mread_low_memory\u001b[0m\u001b[1;33m(\u001b[0m\u001b[0mnrows\u001b[0m\u001b[1;33m)\u001b[0m\u001b[1;33m\u001b[0m\u001b[1;33m\u001b[0m\u001b[0m\n\u001b[0m\u001b[0;32m    226\u001b[0m                 \u001b[1;31m# destructive to chunks\u001b[0m\u001b[1;33m\u001b[0m\u001b[1;33m\u001b[0m\u001b[0m\n\u001b[0;32m    227\u001b[0m                 \u001b[0mdata\u001b[0m \u001b[1;33m=\u001b[0m \u001b[0m_concatenate_chunks\u001b[0m\u001b[1;33m(\u001b[0m\u001b[0mchunks\u001b[0m\u001b[1;33m)\u001b[0m\u001b[1;33m\u001b[0m\u001b[1;33m\u001b[0m\u001b[0m\n",
      "\u001b[1;32m~\\anaconda3\\lib\\site-packages\\pandas\\_libs\\parsers.pyx\u001b[0m in \u001b[0;36mpandas._libs.parsers.TextReader.read_low_memory\u001b[1;34m()\u001b[0m\n",
      "\u001b[1;32m~\\anaconda3\\lib\\site-packages\\pandas\\_libs\\parsers.pyx\u001b[0m in \u001b[0;36mpandas._libs.parsers.TextReader._read_rows\u001b[1;34m()\u001b[0m\n",
      "\u001b[1;32m~\\anaconda3\\lib\\site-packages\\pandas\\_libs\\parsers.pyx\u001b[0m in \u001b[0;36mpandas._libs.parsers.TextReader._tokenize_rows\u001b[1;34m()\u001b[0m\n",
      "\u001b[1;32m~\\anaconda3\\lib\\site-packages\\pandas\\_libs\\parsers.pyx\u001b[0m in \u001b[0;36mpandas._libs.parsers.raise_parser_error\u001b[1;34m()\u001b[0m\n",
      "\u001b[1;31mParserError\u001b[0m: Error tokenizing data. C error: Expected 1 fields in line 28, saw 367\n"
     ]
    }
   ],
   "source": [
    "RWH=pd.read_csv(\"D:\\\\civil\\\\ultratech\\\\Pandas\\\\Survey.csv\")\n",
    "RWH.loc[:,\"User type\"]=RWH.loc[:,\"User type\"].ffill()\n",
    "RWH=RWH.dropna(thresh=5)\n",
    "RWH=RWH.drop(32)\n",
    "RWH"
   ]
  },
  {
   "cell_type": "markdown",
   "id": "b9c37959",
   "metadata": {},
   "source": [
    "## 1.2 Statistics of survey\n",
    "\n",
    "The below table shows the data of the survey, the total number of respondents, which includes \n",
    "engineers/architects, IHB’s owner, and BBMP resister engineers."
   ]
  },
  {
   "cell_type": "code",
   "execution_count": 84,
   "id": "69cfdaf2",
   "metadata": {},
   "outputs": [
    {
     "data": {
      "text/html": [
       "<div>\n",
       "<style scoped>\n",
       "    .dataframe tbody tr th:only-of-type {\n",
       "        vertical-align: middle;\n",
       "    }\n",
       "\n",
       "    .dataframe tbody tr th {\n",
       "        vertical-align: top;\n",
       "    }\n",
       "\n",
       "    .dataframe thead th {\n",
       "        text-align: right;\n",
       "    }\n",
       "</style>\n",
       "<table border=\"1\" class=\"dataframe\">\n",
       "  <thead>\n",
       "    <tr style=\"text-align: right;\">\n",
       "      <th></th>\n",
       "      <th>Level of Survey</th>\n",
       "      <th>Number of Survey</th>\n",
       "    </tr>\n",
       "  </thead>\n",
       "  <tbody>\n",
       "    <tr>\n",
       "      <th>0</th>\n",
       "      <td>Architect</td>\n",
       "      <td>4.0</td>\n",
       "    </tr>\n",
       "    <tr>\n",
       "      <th>1</th>\n",
       "      <td>BBMP Resister engineers</td>\n",
       "      <td>71.0</td>\n",
       "    </tr>\n",
       "    <tr>\n",
       "      <th>2</th>\n",
       "      <td>Engineer</td>\n",
       "      <td>15.0</td>\n",
       "    </tr>\n",
       "    <tr>\n",
       "      <th>3</th>\n",
       "      <td>IHB's Owers</td>\n",
       "      <td>791.0</td>\n",
       "    </tr>\n",
       "    <tr>\n",
       "      <th>Total</th>\n",
       "      <td>Total</td>\n",
       "      <td>881.0</td>\n",
       "    </tr>\n",
       "  </tbody>\n",
       "</table>\n",
       "</div>"
      ],
      "text/plain": [
       "                Level of Survey  Number of Survey\n",
       "0                     Architect               4.0\n",
       "1      BBMP Resister engineers               71.0\n",
       "2                      Engineer              15.0\n",
       "3                   IHB's Owers             791.0\n",
       "Total                     Total             881.0"
      ]
     },
     "execution_count": 84,
     "metadata": {},
     "output_type": "execute_result"
    }
   ],
   "source": [
    "#Number of survey\n",
    "#Analysing the Data\n",
    "\n",
    "RWH_group=RWH.groupby(\"User type\")[\"First Name\"].count().reset_index().rename(columns={\"User type\":\"Level of Survey\",\"First Name\":\"Number of Survey\"})\n",
    "RWH_group.loc[\"Total\"]=RWH_group.sum(numeric_only=True)\n",
    "RWH_group1=df_group.fillna(\"Total\")\n",
    "RWH_group1"
   ]
  },
  {
   "cell_type": "code",
   "execution_count": 85,
   "id": "8b1ee334",
   "metadata": {},
   "outputs": [
    {
     "data": {
      "text/html": [
       "<div>\n",
       "<style scoped>\n",
       "    .dataframe tbody tr th:only-of-type {\n",
       "        vertical-align: middle;\n",
       "    }\n",
       "\n",
       "    .dataframe tbody tr th {\n",
       "        vertical-align: top;\n",
       "    }\n",
       "\n",
       "    .dataframe thead th {\n",
       "        text-align: right;\n",
       "    }\n",
       "</style>\n",
       "<table border=\"1\" class=\"dataframe\">\n",
       "  <thead>\n",
       "    <tr style=\"text-align: right;\">\n",
       "      <th></th>\n",
       "      <th>Level of Survey</th>\n",
       "      <th>Number of Survey</th>\n",
       "    </tr>\n",
       "  </thead>\n",
       "  <tbody>\n",
       "    <tr>\n",
       "      <th>0</th>\n",
       "      <td>Architect</td>\n",
       "      <td>4.0</td>\n",
       "    </tr>\n",
       "    <tr>\n",
       "      <th>1</th>\n",
       "      <td>BBMP Resister engineers</td>\n",
       "      <td>71.0</td>\n",
       "    </tr>\n",
       "    <tr>\n",
       "      <th>2</th>\n",
       "      <td>Engineer</td>\n",
       "      <td>15.0</td>\n",
       "    </tr>\n",
       "    <tr>\n",
       "      <th>3</th>\n",
       "      <td>IHB's Owers</td>\n",
       "      <td>791.0</td>\n",
       "    </tr>\n",
       "  </tbody>\n",
       "</table>\n",
       "</div>"
      ],
      "text/plain": [
       "            Level of Survey  Number of Survey\n",
       "0                 Architect               4.0\n",
       "1  BBMP Resister engineers               71.0\n",
       "2                  Engineer              15.0\n",
       "3               IHB's Owers             791.0"
      ]
     },
     "execution_count": 85,
     "metadata": {},
     "output_type": "execute_result"
    }
   ],
   "source": [
    "RWH_graph=RWH_group1.drop(RWH_group1.index[4], axis = 0)\n",
    "RWH_graph"
   ]
  },
  {
   "cell_type": "code",
   "execution_count": 86,
   "id": "dc98da02",
   "metadata": {},
   "outputs": [
    {
     "data": {
      "image/png": "[encoded data removed]",
      "text/plain": [
       "<Figure size 640x480 with 1 Axes>"
      ]
     },
     "metadata": {},
     "output_type": "display_data"
    }
   ],
   "source": [
    "#ploting pie graph for the above table\n",
    "#data visualization\n",
    "\n",
    "x=RWH_graph[\"Level of Survey\"]\n",
    "y=RWH_graph[\"Number of Survey\"]\n",
    "plt.pie(y,labels=x, autopct=\"%0.1f%%\", explode=[0.1,0.1,0.1,0.1])\n",
    "plt.savefig(\"D:\\\\civil\\\\ultratech\\\\Pandas\\\\Statistics of survey.png\",transparent=True)"
   ]
  },
  {
   "cell_type": "markdown",
   "id": "310a5b8f",
   "metadata": {},
   "source": [
    "For the survey, specific sets of questionnaires were created. The questions and responses from \n",
    "engineers/architects, IHB's owner, and BBMP resister engineers are analysed below.\n",
    "\n",
    "\n",
    "## 1 Have you adopted rainwater harvesting in your home? "
   ]
  },
  {
   "cell_type": "code",
   "execution_count": 87,
   "id": "30e1904c",
   "metadata": {
    "scrolled": true
   },
   "outputs": [
    {
     "data": {
      "text/html": [
       "<div>\n",
       "<style scoped>\n",
       "    .dataframe tbody tr th:only-of-type {\n",
       "        vertical-align: middle;\n",
       "    }\n",
       "\n",
       "    .dataframe tbody tr th {\n",
       "        vertical-align: top;\n",
       "    }\n",
       "\n",
       "    .dataframe thead th {\n",
       "        text-align: right;\n",
       "    }\n",
       "</style>\n",
       "<table border=\"1\" class=\"dataframe\">\n",
       "  <thead>\n",
       "    <tr style=\"text-align: right;\">\n",
       "      <th></th>\n",
       "      <th>Building</th>\n",
       "      <th>Numbers</th>\n",
       "      <th>Percentage</th>\n",
       "    </tr>\n",
       "  </thead>\n",
       "  <tbody>\n",
       "    <tr>\n",
       "      <th>0</th>\n",
       "      <td>With RWH</td>\n",
       "      <td>445</td>\n",
       "      <td>50.510783</td>\n",
       "    </tr>\n",
       "    <tr>\n",
       "      <th>1</th>\n",
       "      <td>Without RWH</td>\n",
       "      <td>436</td>\n",
       "      <td>49.489217</td>\n",
       "    </tr>\n",
       "  </tbody>\n",
       "</table>\n",
       "</div>"
      ],
      "text/plain": [
       "      Building  Numbers  Percentage\n",
       "0     With RWH      445   50.510783\n",
       "1  Without RWH      436   49.489217"
      ]
     },
     "execution_count": 87,
     "metadata": {},
     "output_type": "execute_result"
    }
   ],
   "source": [
    "#Data Manipulating\n",
    "#First replaced the yes or no\n",
    "#Count the number of homes that have adopted rainwater harvesting (RWH).\n",
    "\n",
    "RWH_Q1=RWH[[\"Have you adopted rainwater harvesting in your home? \"]].replace([\"yes\",\"YES\",\"Yes\",\"NO\",\"No\",\"no\"],[\"With RWH\",\"With RWH\",\"With RWH\",\"Without RWH\",\"Without RWH\",\"Without RWH\"])\n",
    "\n",
    "RWH_Q1=RWH_Q1[\"Have you adopted rainwater harvesting in your home? \"].value_counts()\n",
    "\n",
    "RWH_Q1=RWH_Q1.to_frame().reset_index()\n",
    "RWH_Q1\n",
    "\n",
    "RWH_Q1.rename(columns={\"index\":\"Building\",\"Have you adopted rainwater harvesting in your home? \":\"Numbers\"}, inplace=True)\n",
    "\n",
    "RWH_Q1[\"Percentage\"]=(RWH_Q1[\"Numbers\"]/RWH_Q1[\"Numbers\"].sum())*100\n",
    "RWH_Q1\n",
    "\n"
   ]
  },
  {
   "cell_type": "code",
   "execution_count": 88,
   "id": "ff0af76e",
   "metadata": {},
   "outputs": [
    {
     "data": {
      "image/png": "[encoded data removed]",
      "text/plain": [
       "<Figure size 640x480 with 1 Axes>"
      ]
     },
     "metadata": {},
     "output_type": "display_data"
    }
   ],
   "source": [
    "#ploting pie graph for the above table\n",
    "#data visualization\n",
    "\n",
    "x=RWH_Q1[\"Building\"]\n",
    "y=RWH_Q1[\"Percentage\"]\n",
    "\n",
    "plt.pie(y,labels=x, autopct=\"%0.1f%%\", explode=[0,0.05],shadow=True)\n",
    "plt.savefig(\"D:\\\\civil\\\\ultratech\\\\Pandas\\\\With or Without RWH.png\",transparent=True)"
   ]
  },
  {
   "cell_type": "markdown",
   "id": "43e3cd02",
   "metadata": {},
   "source": [
    "## 2 Are you aware of Government rules towards RWH?"
   ]
  },
  {
   "cell_type": "code",
   "execution_count": 89,
   "id": "83091d5d",
   "metadata": {},
   "outputs": [
    {
     "data": {
      "text/html": [
       "<div>\n",
       "<style scoped>\n",
       "    .dataframe tbody tr th:only-of-type {\n",
       "        vertical-align: middle;\n",
       "    }\n",
       "\n",
       "    .dataframe tbody tr th {\n",
       "        vertical-align: top;\n",
       "    }\n",
       "\n",
       "    .dataframe thead th {\n",
       "        text-align: right;\n",
       "    }\n",
       "</style>\n",
       "<table border=\"1\" class=\"dataframe\">\n",
       "  <thead>\n",
       "    <tr style=\"text-align: right;\">\n",
       "      <th></th>\n",
       "      <th>Government rules</th>\n",
       "      <th>Numbers</th>\n",
       "      <th>Percentage</th>\n",
       "    </tr>\n",
       "  </thead>\n",
       "  <tbody>\n",
       "    <tr>\n",
       "      <th>0</th>\n",
       "      <td>Aware</td>\n",
       "      <td>837</td>\n",
       "      <td>95.005675</td>\n",
       "    </tr>\n",
       "    <tr>\n",
       "      <th>1</th>\n",
       "      <td>Not aware</td>\n",
       "      <td>44</td>\n",
       "      <td>4.994325</td>\n",
       "    </tr>\n",
       "  </tbody>\n",
       "</table>\n",
       "</div>"
      ],
      "text/plain": [
       "  Government rules  Numbers  Percentage\n",
       "0            Aware      837   95.005675\n",
       "1        Not aware       44    4.994325"
      ]
     },
     "execution_count": 89,
     "metadata": {},
     "output_type": "execute_result"
    }
   ],
   "source": [
    "#Data Manipulating\n",
    "#First replaced the yes or no.\n",
    "#Counting the number of people who are aware of the rules.\n",
    "\n",
    "\n",
    "RWH_Q2=RWH[[\"Are you aware of Government rules towards RWH?\\n\"]].replace([\"yes\",\"YES\",\"Yes\",\"NO\",\"No\",\"no\"],[1,1,1,0,0,0])\n",
    "\n",
    "RWH_Q2=RWH_Q2[\"Are you aware of Government rules towards RWH?\\n\"].value_counts()\n",
    "\n",
    "RWH_Q2 = RWH_Q2.to_frame().reset_index()\n",
    "RWH_Q2\n",
    "\n",
    "RWH_Q2.rename(columns={\"index\":\"Government rules\",\"Are you aware of Government rules towards RWH?\\n\":\"Numbers\"}, inplace=True)\n",
    "RWH_Q2=RWH_Q2.replace([1,0],[\"Aware\",\"Not aware\"])\n",
    "RWH_Q2[\"Percentage\"]=(RWH_Q2[\"Numbers\"]/RWH_Q2[\"Numbers\"].sum())*100\n",
    "RWH_Q2"
   ]
  },
  {
   "cell_type": "code",
   "execution_count": 90,
   "id": "42758ac3",
   "metadata": {},
   "outputs": [
    {
     "data": {
      "image/png": "[encoded data removed]",
      "text/plain": [
       "<Figure size 640x480 with 1 Axes>"
      ]
     },
     "metadata": {},
     "output_type": "display_data"
    }
   ],
   "source": [
    "#ploting pie graph for the above table\n",
    "#data visualization\n",
    "\n",
    "x=RWH_Q2[\"Government rules\"]\n",
    "y=RWH_Q2[\"Percentage\"]\n",
    "\n",
    "\n",
    "plt.pie(y,labels=x, autopct=\"%0.1f%%\", explode=[0,0.05],shadow=True)\n",
    "plt.savefig(\"D:\\\\civil\\\\ultratech\\\\Pandas\\\\Awareness.png\",transparent=True)"
   ]
  },
  {
   "cell_type": "markdown",
   "id": "81a83c16",
   "metadata": {},
   "source": [
    "## 3 Are you interested in attending training programs on rainwater harvesting?"
   ]
  },
  {
   "cell_type": "code",
   "execution_count": 91,
   "id": "b2c35b07",
   "metadata": {},
   "outputs": [
    {
     "data": {
      "text/html": [
       "<div>\n",
       "<style scoped>\n",
       "    .dataframe tbody tr th:only-of-type {\n",
       "        vertical-align: middle;\n",
       "    }\n",
       "\n",
       "    .dataframe tbody tr th {\n",
       "        vertical-align: top;\n",
       "    }\n",
       "\n",
       "    .dataframe thead th {\n",
       "        text-align: right;\n",
       "    }\n",
       "</style>\n",
       "<table border=\"1\" class=\"dataframe\">\n",
       "  <thead>\n",
       "    <tr style=\"text-align: right;\">\n",
       "      <th></th>\n",
       "      <th>Attending training programs</th>\n",
       "      <th>Numbers</th>\n",
       "      <th>Percentage</th>\n",
       "    </tr>\n",
       "  </thead>\n",
       "  <tbody>\n",
       "    <tr>\n",
       "      <th>0</th>\n",
       "      <td>Interested</td>\n",
       "      <td>495</td>\n",
       "      <td>56.186152</td>\n",
       "    </tr>\n",
       "    <tr>\n",
       "      <th>1</th>\n",
       "      <td>Not Interested</td>\n",
       "      <td>386</td>\n",
       "      <td>43.813848</td>\n",
       "    </tr>\n",
       "  </tbody>\n",
       "</table>\n",
       "</div>"
      ],
      "text/plain": [
       "  Attending training programs  Numbers  Percentage\n",
       "0                  Interested      495   56.186152\n",
       "1              Not Interested      386   43.813848"
      ]
     },
     "execution_count": 91,
     "metadata": {},
     "output_type": "execute_result"
    }
   ],
   "source": [
    "RWH_Q3=RWH[[\"Are you interested in attending training programs on rainwater harvesting?\"]].replace([\"yes\",\"YES\",\"Yes\",\"NO\",\"No\",\"no\"],[1,1,1,0,0,0])\n",
    "\n",
    "RWH_Q3=RWH_Q3[\"Are you interested in attending training programs on rainwater harvesting?\"].value_counts()\n",
    "\n",
    "RWH_Q3 = RWH_Q3.to_frame().reset_index()\n",
    "RWH_Q3\n",
    "\n",
    "RWH_Q3.rename(columns={\"index\":\"Attending training programs\",\"Are you interested in attending training programs on rainwater harvesting?\":\"Numbers\"}, inplace=True)\n",
    "RWH_Q3=RWH_Q3.replace([1,0],[\"Interested\",\"Not Interested\"])\n",
    "RWH_Q3[\"Percentage\"]=(RWH_Q3[\"Numbers\"]/RWH_Q3[\"Numbers\"].sum())*100\n",
    "RWH_Q3"
   ]
  },
  {
   "cell_type": "code",
   "execution_count": 92,
   "id": "d54c45c2",
   "metadata": {},
   "outputs": [
    {
     "data": {
      "image/png": "[encoded data removed]",
      "text/plain": [
       "<Figure size 640x480 with 1 Axes>"
      ]
     },
     "metadata": {},
     "output_type": "display_data"
    }
   ],
   "source": [
    "#ploting pie graph for the above table\n",
    "#data visualization\n",
    "\n",
    "x=RWH_Q3[\"Attending training programs\"]\n",
    "y=RWH_Q3[\"Percentage\"]\n",
    "\n",
    "plt.pie(y,labels=x, autopct=\"%0.1f%%\", explode=[0,0.05],shadow=True)\n",
    "plt.savefig(\"D:\\\\civil\\\\ultratech\\\\Pandas\\\\intrest.png\",transparent=True)"
   ]
  },
  {
   "cell_type": "markdown",
   "id": "daff9d73",
   "metadata": {},
   "source": [
    "## 4 Does your home have a BBMP water supply connection?"
   ]
  },
  {
   "cell_type": "code",
   "execution_count": 93,
   "id": "7283abde",
   "metadata": {},
   "outputs": [
    {
     "data": {
      "text/html": [
       "<div>\n",
       "<style scoped>\n",
       "    .dataframe tbody tr th:only-of-type {\n",
       "        vertical-align: middle;\n",
       "    }\n",
       "\n",
       "    .dataframe tbody tr th {\n",
       "        vertical-align: top;\n",
       "    }\n",
       "\n",
       "    .dataframe thead th {\n",
       "        text-align: right;\n",
       "    }\n",
       "</style>\n",
       "<table border=\"1\" class=\"dataframe\">\n",
       "  <thead>\n",
       "    <tr style=\"text-align: right;\">\n",
       "      <th></th>\n",
       "      <th></th>\n",
       "      <th>Connections</th>\n",
       "      <th>Percentage</th>\n",
       "    </tr>\n",
       "  </thead>\n",
       "  <tbody>\n",
       "    <tr>\n",
       "      <th>0</th>\n",
       "      <td>BBMP water supply</td>\n",
       "      <td>881</td>\n",
       "      <td>100.0</td>\n",
       "    </tr>\n",
       "  </tbody>\n",
       "</table>\n",
       "</div>"
      ],
      "text/plain": [
       "                      Connections  Percentage\n",
       "0  BBMP water supply          881       100.0"
      ]
     },
     "execution_count": 93,
     "metadata": {},
     "output_type": "execute_result"
    }
   ],
   "source": [
    "#Does your home have a BBMP water supply connection?\n",
    "\n",
    "RWH_Q4=RWH[[\"Does your home have a BBMP water supply connection?\"]].replace([\"yes\",\"YES\",\"Yes\",\"NO\",\"No\",\"no\"],[1,1,1,0,0,0])\n",
    "\n",
    "RWH_Q4=RWH_Q4[\"Does your home have a BBMP water supply connection?\"].value_counts()\n",
    "\n",
    "RWH_Q4=RWH_Q4.to_frame().reset_index()\n",
    "RWH_Q4\n",
    "\n",
    "RWH_Q4.rename(columns={\"index\":\"\",\"Does your home have a BBMP water supply connection?\":\"Connections\"}, inplace=True)\n",
    "RWH_Q4=RWH_Q4.replace([1],[\"BBMP water supply\"])\n",
    "RWH_Q4[\"Percentage\"]=(RWH_Q4[\"Connections\"]/RWH_Q4[\"Connections\"].sum())*100\n",
    "RWH_Q4"
   ]
  },
  {
   "cell_type": "code",
   "execution_count": null,
   "id": "b2337477",
   "metadata": {},
   "outputs": [],
   "source": []
  }
 ],
 "metadata": {
  "kernelspec": {
   "display_name": "Python 3 (ipykernel)",
   "language": "python",
   "name": "python3"
  },
  "language_info": {
   "codemirror_mode": {
    "name": "ipython",
    "version": 3
   },
   "file_extension": ".py",
   "mimetype": "text/x-python",
   "name": "python",
   "nbconvert_exporter": "python",
   "pygments_lexer": "ipython3",
   "version": "3.9.13"
  }
 },
 "nbformat": 4,
 "nbformat_minor": 5
}
